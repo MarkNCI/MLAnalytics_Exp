{
  "nbformat": 4,
  "nbformat_minor": 0,
  "metadata": {
    "colab": {
      "provenance": []
    },
    "kernelspec": {
      "name": "python3",
      "display_name": "Python 3"
    },
    "language_info": {
      "name": "python"
    }
  },
  "cells": [
    {
      "cell_type": "code",
      "source": [
        "!pip install transformers -q\n",
        "!pip install streamlit -q\n",
        "!pip install anthropic -q\n",
        "!pip install pypdf -q\n",
        "!pip install pyngrok -q"
      ],
      "metadata": {
        "colab": {
          "base_uri": "https://localhost:8080/"
        },
        "id": "Q5jHrh6L68YE",
        "outputId": "df7a9762-a36d-4d28-899d-5e1609bca925",
        "collapsed": true
      },
      "execution_count": 1,
      "outputs": [
        {
          "output_type": "stream",
          "name": "stdout",
          "text": [
            "\u001b[2K   \u001b[90m━━━━━━━━━━━━━━━━━━━━━━━━━━━━━━━━━━━━━━━━\u001b[0m \u001b[32m8.7/8.7 MB\u001b[0m \u001b[31m26.1 MB/s\u001b[0m eta \u001b[36m0:00:00\u001b[0m\n",
            "\u001b[2K   \u001b[90m━━━━━━━━━━━━━━━━━━━━━━━━━━━━━━━━━━━━━━━━\u001b[0m \u001b[32m207.3/207.3 kB\u001b[0m \u001b[31m10.2 MB/s\u001b[0m eta \u001b[36m0:00:00\u001b[0m\n",
            "\u001b[2K   \u001b[90m━━━━━━━━━━━━━━━━━━━━━━━━━━━━━━━━━━━━━━━━\u001b[0m \u001b[32m6.9/6.9 MB\u001b[0m \u001b[31m58.4 MB/s\u001b[0m eta \u001b[36m0:00:00\u001b[0m\n",
            "\u001b[2K   \u001b[90m━━━━━━━━━━━━━━━━━━━━━━━━━━━━━━━━━━━━━━━━\u001b[0m \u001b[32m82.9/82.9 kB\u001b[0m \u001b[31m4.9 MB/s\u001b[0m eta \u001b[36m0:00:00\u001b[0m\n",
            "\u001b[2K   \u001b[90m━━━━━━━━━━━━━━━━━━━━━━━━━━━━━━━━━━━━━━━━\u001b[0m \u001b[32m62.7/62.7 kB\u001b[0m \u001b[31m4.1 MB/s\u001b[0m eta \u001b[36m0:00:00\u001b[0m\n",
            "\u001b[2K   \u001b[90m━━━━━━━━━━━━━━━━━━━━━━━━━━━━━━━━━━━━━━━━\u001b[0m \u001b[32m891.5/891.5 kB\u001b[0m \u001b[31m5.1 MB/s\u001b[0m eta \u001b[36m0:00:00\u001b[0m\n",
            "\u001b[2K   \u001b[90m━━━━━━━━━━━━━━━━━━━━━━━━━━━━━━━━━━━━━━━━\u001b[0m \u001b[32m75.6/75.6 kB\u001b[0m \u001b[31m4.7 MB/s\u001b[0m eta \u001b[36m0:00:00\u001b[0m\n",
            "\u001b[2K   \u001b[90m━━━━━━━━━━━━━━━━━━━━━━━━━━━━━━━━━━━━━━━━\u001b[0m \u001b[32m77.9/77.9 kB\u001b[0m \u001b[31m4.4 MB/s\u001b[0m eta \u001b[36m0:00:00\u001b[0m\n",
            "\u001b[2K   \u001b[90m━━━━━━━━━━━━━━━━━━━━━━━━━━━━━━━━━━━━━━━━\u001b[0m \u001b[32m318.9/318.9 kB\u001b[0m \u001b[31m19.0 MB/s\u001b[0m eta \u001b[36m0:00:00\u001b[0m\n",
            "\u001b[2K   \u001b[90m━━━━━━━━━━━━━━━━━━━━━━━━━━━━━━━━━━━━━━━━\u001b[0m \u001b[32m58.3/58.3 kB\u001b[0m \u001b[31m3.4 MB/s\u001b[0m eta \u001b[36m0:00:00\u001b[0m\n",
            "\u001b[2K   \u001b[90m━━━━━━━━━━━━━━━━━━━━━━━━━━━━━━━━━━━━━━━━\u001b[0m \u001b[32m295.8/295.8 kB\u001b[0m \u001b[31m2.1 MB/s\u001b[0m eta \u001b[36m0:00:00\u001b[0m\n",
            "\u001b[?25h"
          ]
        }
      ]
    },
    {
      "cell_type": "code",
      "execution_count": 21,
      "metadata": {
        "colab": {
          "base_uri": "https://localhost:8080/"
        },
        "id": "0oE6FqPD5Yyy",
        "outputId": "510d286a-1994-40e8-c90b-5971ca3ef098"
      },
      "outputs": [
        {
          "output_type": "stream",
          "name": "stdout",
          "text": [
            "Overwriting app.py\n"
          ]
        }
      ],
      "source": [
        "%%writefile app.py\n",
        "import streamlit as st\n",
        "import requests, os\n",
        "from anthropic import Anthropic\n",
        "from pypdf import PdfReader\n",
        "\n",
        "client = Anthropic(\n",
        "    api_key=''\n",
        ")\n",
        "MODEL_NAME = 'claude-3-5-sonnet-20240620'\n",
        "\n",
        "# Intro Text\n",
        "st.markdown('# PDF summarization using Generative AI')\n",
        "st.header('''PDF size must be below 200MB. Only 1 PDF per time, time will vary depending on size''')\n",
        "\n",
        "input_file = st.file_uploader('Upload a PDF file')\n",
        "\n",
        "options = st.radio(\n",
        "    'What type of summary would you like?',\n",
        "    ['High-Level','Technical'],\n",
        "    captions=[\n",
        "       'A summary that leaves out any technical terms for a simpler summary',\n",
        "       'A detailed summary that includes the technical aspects of the paper',\n",
        "    ],\n",
        "    index=None\n",
        ")\n",
        "\n",
        "# Save uploaded file\n",
        "if input_file:\n",
        "  with open(os.path.join(input_file.name),'wb') as f:\n",
        "        f.write(input_file.getbuffer())\n",
        "  st.success('Saved File')\n",
        "\n",
        "st.markdown('# Summary')\n",
        "\n",
        "def read_pdf(pdf_file):\n",
        "  reader = PdfReader(pdf_file)\n",
        "  content = ''.join(page.extract_text() for page in reader.pages)\n",
        "  return content\n",
        "\n",
        "def get_completion(client, prompt):\n",
        "  return client.messages.create(\n",
        "      model=MODEL_NAME,\n",
        "      max_tokens=2048,\n",
        "      messages=[{\n",
        "          \"role\": 'user', \"content\":  prompt\n",
        "      }]\n",
        "  ).content[0].text\n",
        "\n",
        "if input_file and options == 'High-Level':\n",
        "\n",
        "  text = read_pdf(input_file)\n",
        "  completion = get_completion(client,\n",
        "    f\"\"\"Here is an academic paper: <paper>{text}</paper>\n",
        "\n",
        "  Please do the following:\n",
        "  1.Provide a high-level overview of the research paper in such a way that the reader won't need to read the whole paper.\n",
        "  2.Assume you are an academic who wants to find more research papers like this one. Return a list of 5 research papers that are similar to\n",
        "  this paper. Sort the list in descending order from most relevant to least relevant.\n",
        "  \"\"\"\n",
        "  )\n",
        "  st.success('Summary ready!')\n",
        "  st.text_area(label = '', value = completion, placeholder = 'Please upload a PDF to summarise', height = 400)\n",
        "  st.markdown('')\n",
        "\n",
        "elif input_file and options == 'Technical':\n",
        "\n",
        "  text = read_pdf(input_file)\n",
        "  completion = get_completion(client,\n",
        "    f\"\"\"Here is an academic paper: <paper>{text}</paper>\n",
        "\n",
        "  Please do the following:\n",
        "  1.Provide a detailed technical summary of the research paper in such a way that the reader won't need to read the whole paper.\n",
        "  2.Assume you are an academic who wants to find more research papers like this one. Return a list of 5 research papers that are similar to\n",
        "  this paper. Sort the list in descending order from most relevant to least relevant.\n",
        "  \"\"\"\n",
        "  )\n",
        "  st.success('Summary ready!')\n",
        "  st.text_area(label = '', value = completion, placeholder = 'Please upload a PDF to summarise', height = 400)\n",
        "  st.markdown('')\n",
        "\n",
        "else:\n",
        "  st.text_area(label = '',value = 'Please upload a PDF to summarise', placeholder = 'Please upload a PDF to summarise', height = 400)"
      ]
    },
    {
      "cell_type": "markdown",
      "source": [
        "Use the below to pass \"number\" to prompt. Assume you are an academic who wants to find more research papers like this one. Return a list of <number>{number}</number> research papers that are similar to this paper. Sort the list in descending order from most relevant to least relevant"
      ],
      "metadata": {
        "id": "a8Naxn3go1zI"
      }
    },
    {
      "cell_type": "code",
      "source": [
        "import streamlit as st\n",
        "\n",
        "number = st.number_input(\n",
        "    \"Insert a number\", value=None, placeholder=\"Type a number...\"\n",
        ")\n",
        "st.write(\"The current number is \", number)"
      ],
      "metadata": {
        "id": "ETxhN0Bdoz8e"
      },
      "execution_count": null,
      "outputs": []
    },
    {
      "cell_type": "code",
      "source": [
        "from pyngrok import ngrok\n",
        "\n",
        "# Auth Token\n",
        "ngrok.set_auth_token('')\n",
        "\n",
        "# Start Streamlit server and set port number\n",
        "!nohup streamlit run app.py --server.port 5011 &\n",
        "\n",
        "# Start ngrok tunnel\n",
        "ngrok_tunnel = ngrok.connect(addr='5011', proto='http', bind_tls=True)\n",
        "print('Tunnel URL:', ngrok_tunnel.public_url)"
      ],
      "metadata": {
        "colab": {
          "base_uri": "https://localhost:8080/"
        },
        "id": "G53ebAhx6tpq",
        "outputId": "f5c3d8f2-21bc-4784-ef12-9aa168ccbdb1"
      },
      "execution_count": 22,
      "outputs": [
        {
          "output_type": "stream",
          "name": "stdout",
          "text": [
            "nohup: appending output to 'nohup.out'\n",
            "Tunnel URL: https://b0a6-34-70-3-42.ngrok-free.app\n"
          ]
        }
      ]
    },
    {
      "cell_type": "code",
      "source": [
        "# Shut down tunnel\n",
        "print(ngrok.get_tunnels())\n",
        "ngrok.disconnect(ngrok_tunnel.public_url)\n",
        "print(ngrok.get_tunnels())"
      ],
      "metadata": {
        "colab": {
          "base_uri": "https://localhost:8080/"
        },
        "id": "-D2kuH1E9RxT",
        "outputId": "6b12a3b6-0530-4c02-b923-7c42ee6bfc31"
      },
      "execution_count": 23,
      "outputs": [
        {
          "output_type": "stream",
          "name": "stderr",
          "text": [
            "WARNING:pyngrok.process.ngrok:t=2024-08-24T18:18:40+0000 lvl=warn msg=\"Stopping forwarder\" name=http-5011-6eeeef2d-7445-4a42-ba77-68b82f46373a acceptErr=\"failed to accept connection: Listener closed\"\n"
          ]
        },
        {
          "output_type": "stream",
          "name": "stdout",
          "text": [
            "[<NgrokTunnel: \"https://b0a6-34-70-3-42.ngrok-free.app\" -> \"http://localhost:5011\">]\n",
            "[]\n"
          ]
        }
      ]
    },
    {
      "cell_type": "markdown",
      "source": [
        "### TASK\n",
        "  You are an expert in text analysis and summarisation with research papers. Your task is to analyse a research paper I'm going to give you\n",
        "  and provide a detailed summary that is most representative of its content. You must use the Key Concept Clarity method to read the paper and\n",
        "  highlight all of the key talking points of the paper.\n",
        "  ### INPUTS\n",
        "  Research Paper: {input_file}\n",
        "  ### OUTPUT\n",
        "  The output should be structured so as to identify and concisely explain the main ideas in the document. Each section should consist of the\n",
        "  name of the talking point, a detailed definition of the talking point and a short summary of the talking point.\n",
        "  Aim to provide at least four talking points. Here is how each talking point should be structured:\n",
        "  Name of the talking point\n",
        "  Explanation: Define in detail what is the talking point\n",
        "  Overview: Provide a short summary of the talking point including its challenges ,if any, and findings.\n",
        "  '''"
      ],
      "metadata": {
        "id": "HbqIaaV-q_uK"
      }
    }
  ]
}